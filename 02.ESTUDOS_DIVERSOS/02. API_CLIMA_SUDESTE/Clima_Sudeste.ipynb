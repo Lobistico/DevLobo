{
  "nbformat": 4,
  "nbformat_minor": 0,
  "metadata": {
    "colab": {
      "name": "Estudo_xml_etree.ipynb",
      "provenance": [],
      "collapsed_sections": [
        "u1_ntCcKII9h",
        "HhEJkuTDEhxE",
        "yxr-ARLbz5R-",
        "SYGJMAP8HDU3",
        "YyR39Oa6Hfx2"
      ]
    },
    "kernelspec": {
      "name": "python3",
      "display_name": "Python 3"
    },
    "language_info": {
      "name": "python"
    }
  },
  "cells": [
    {
      "cell_type": "markdown",
      "metadata": {
        "id": "u1_ntCcKII9h"
      },
      "source": [
        "## IMPORTANDO"
      ]
    },
    {
      "cell_type": "code",
      "metadata": {
        "id": "yH3P8BHKJmsK"
      },
      "source": [
        "import xml.etree.ElementTree as ET\n",
        "import requests\n",
        "import pandas as pd\n",
        "import matplotlib.pyplot as plt\n",
        "import sqlite3"
      ],
      "execution_count": null,
      "outputs": []
    },
    {
      "cell_type": "markdown",
      "metadata": {
        "id": "HhEJkuTDEhxE"
      },
      "source": [
        "## TRATAMENTO INICIAL\n",
        "A primeira etapa foi importar o arquivo xml utilizando xml.etree e o requests\n"
      ]
    },
    {
      "cell_type": "code",
      "metadata": {
        "id": "L5tmvg4nV1Oa"
      },
      "source": [
        "# IMPORTA ARQUIVO XML\n",
        "url = \"http://servicos.cptec.inpe.br/XML/capitais/condicoesAtuais.xml\"\n",
        "header = { 'Accept': 'application/xml' }\n",
        "r = requests.get(url, headers=header)\n",
        "\n",
        "tree =  ET.ElementTree(ET.fromstring(r.content))    \n",
        "root = tree.getroot()\n",
        "\n",
        "# LISTA DAS ESTAÇÕES DOS ESTADOS\n",
        "codigos = ['SBRJ','SBSP','SBVT', 'SBCF']\n",
        "cidades = ['Rio de Janeiro', 'São Paulo', 'Vitória', 'Belo Horizonte']\n",
        "dc_cid_cod ={}\n",
        "\n",
        "# SALVA AS ESTAÇÕES\n",
        "for k,j in zip(codigos, cidades):\n",
        "  dc_cid_cod[k] = j"
      ],
      "execution_count": null,
      "outputs": []
    },
    {
      "cell_type": "markdown",
      "metadata": {
        "id": "yxr-ARLbz5R-"
      },
      "source": [
        "## SALVANDO\n",
        "Criando o banco de dados, são salvas as informações relaciondas com:\n",
        "\n",
        "1.   Código da estação;\n",
        "2.   Atualização\n",
        "3.   Temperatura\n",
        "4.   Umidade do Ar"
      ]
    },
    {
      "cell_type": "code",
      "metadata": {
        "id": "x4wuWzqIwoTr"
      },
      "source": [
        "conexao = sqlite3.connect('basededados.db')\n",
        "cursor = conexao.cursor()\n",
        "\n",
        "cursor.execute('CREATE TABLE IF NOT EXISTS previsao_tempo ('\n",
        "                'id INTEGER PRIMARY KEY AUTOINCREMENT,'\n",
        "                'codigo TEXT,'\n",
        "                'atualizacao TEXT,'\n",
        "                'temperatura INTEGER,'\n",
        "                'ar_umido INTEGER,'\n",
        "                'a_tempo TEXT'\n",
        "                ')')\n",
        "teste ={} # Salva um dicionário teste com temperatura e estação.\n",
        "predominio=[] # Salva o predominio do momento.\n",
        "\n",
        "for i  in range(0, 26):\n",
        "  if root[i][0].text in codigos:\n",
        "    teste[root[i][0].text] = root[i][3].text\n",
        "    predominio.append(root[i][5].text)    \n",
        "    cursor.execute('INSERT INTO previsao_tempo (codigo, atualizacao, temperatura, ar_umido, a_tempo) VALUES (?, ?, ?, ?, ?)', (dc_cid_cod[root[i][0].text],root[i][1].text,root[i][3].text,root[i][6].text,root[i][5].text))\n",
        "    # print(f' Na estação {dc_cid_cod[root[i][0].text]} está fazendo {root[i][3].text} graus')  -- > É um teste para verificar se está funcionando o código\n",
        "conexao.commit()\n",
        "# PARA VER COMO ESTÁ SENDO SALVO \n",
        "# cursor.execute('SELECT * FROM previsao_tempo')\n",
        "# for linha in cursor.fetchall():\n",
        "#     print(linha)\n",
        "cursor.close()\n",
        "conexao.close()"
      ],
      "execution_count": null,
      "outputs": []
    },
    {
      "cell_type": "code",
      "metadata": {
        "id": "0hKzVzPBwWms"
      },
      "source": [
        "# CORRIGE ACENTO DO PREDOMINIO\n",
        "for x in range(0, len(predominio)):  \n",
        "    predominio[x] = predominio[x].replace('Ã\\xad', 'í')   "
      ],
      "execution_count": null,
      "outputs": []
    },
    {
      "cell_type": "markdown",
      "metadata": {
        "id": "SYGJMAP8HDU3"
      },
      "source": [
        "## REPRESENTAÇÃO\n",
        "Primeiro: apresentação de tabela com a temperatura e o predomínio do clima,\n",
        "Segundo: apresentação de tabela para indicar a temperatura."
      ]
    },
    {
      "cell_type": "code",
      "metadata": {
        "colab": {
          "base_uri": "https://localhost:8080/"
        },
        "id": "zH1eJgU_qeja",
        "outputId": "462bc099-9c45-4efc-a63a-fea783291a35"
      },
      "source": [
        "# CRIA O TABELA COM A TEMPERATURA \n",
        "estacao = list(teste)\n",
        "temperatura = list(teste.values())\n",
        "d = {'Estacao': estacao, 'Temperatura': temperatura, 'Predominio': predominio}\n",
        "df = pd.DataFrame(data=d)\n",
        "\n",
        "df['Temperatura'] = pd.to_numeric(df['Temperatura']) # Converte para Integer\n",
        "df\n"
      ],
      "execution_count": null,
      "outputs": [
        {
          "output_type": "execute_result",
          "data": {
            "text/html": [
              "<div>\n",
              "<style scoped>\n",
              "    .dataframe tbody tr th:only-of-type {\n",
              "        vertical-align: middle;\n",
              "    }\n",
              "\n",
              "    .dataframe tbody tr th {\n",
              "        vertical-align: top;\n",
              "    }\n",
              "\n",
              "    .dataframe thead th {\n",
              "        text-align: right;\n",
              "    }\n",
              "</style>\n",
              "<table border=\"1\" class=\"dataframe\">\n",
              "  <thead>\n",
              "    <tr style=\"text-align: right;\">\n",
              "      <th></th>\n",
              "      <th>Estacao</th>\n",
              "      <th>Temperatura</th>\n",
              "      <th>Predominio</th>\n",
              "    </tr>\n",
              "  </thead>\n",
              "  <tbody>\n",
              "    <tr>\n",
              "      <th>0</th>\n",
              "      <td>SBCF</td>\n",
              "      <td>27</td>\n",
              "      <td>Predomínio de Sol</td>\n",
              "    </tr>\n",
              "    <tr>\n",
              "      <th>1</th>\n",
              "      <td>SBRJ</td>\n",
              "      <td>22</td>\n",
              "      <td>Predomínio de Sol</td>\n",
              "    </tr>\n",
              "    <tr>\n",
              "      <th>2</th>\n",
              "      <td>SBSP</td>\n",
              "      <td>17</td>\n",
              "      <td>Predomínio de Sol</td>\n",
              "    </tr>\n",
              "    <tr>\n",
              "      <th>3</th>\n",
              "      <td>SBVT</td>\n",
              "      <td>23</td>\n",
              "      <td>Predomínio de Sol</td>\n",
              "    </tr>\n",
              "  </tbody>\n",
              "</table>\n",
              "</div>"
            ],
            "text/plain": [
              "  Estacao  Temperatura         Predominio\n",
              "0    SBCF           27  Predomínio de Sol\n",
              "1    SBRJ           22  Predomínio de Sol\n",
              "2    SBSP           17  Predomínio de Sol\n",
              "3    SBVT           23  Predomínio de Sol"
            ]
          },
          "metadata": {},
          "execution_count": 302
        }
      ]
    },
    {
      "cell_type": "code",
      "metadata": {
        "colab": {
          "base_uri": "https://localhost:8080/"
        },
        "id": "NzPDWDjltL4g",
        "outputId": "d6953583-a284-42fe-ae34-474dc8ac10d9"
      },
      "source": [
        "# CRIA GRAFICO COM A TEMPERATURA ATUAL\n",
        "df.groupby(df['Estacao'])['Temperatura'].sum().plot.barh(title  = 'Temperatura', color ='red', figsize=(20,5));"
      ],
      "execution_count": null,
      "outputs": [
        {
          "output_type": "display_data",
          "data": {
            "image/png": "[encoded data removed]",
            "text/plain": [
              "<Figure size 1440x360 with 1 Axes>"
            ]
          },
          "metadata": {
            "needs_background": "light"
          }
        }
      ]
    },
    {
      "cell_type": "markdown",
      "metadata": {
        "id": "YyR39Oa6Hfx2"
      },
      "source": [
        "## RECUPERAÇÃO\n",
        "Transforma os banco de dados em um arquivo CSV\n",
        "Recupera o arquivo CSV para tratamento de dados"
      ]
    },
    {
      "cell_type": "code",
      "metadata": {
        "id": "nBH0FFb_vazf"
      },
      "source": [
        "#RECUPERAÇÃO DE DADOS - SALVA EM CSV\n",
        "conect = sqlite3.connect('/content/basededados.db')\n",
        "\n",
        "dados_recuperados = pd.read_sql_query(\"SELECT * FROM previsao_tempo\", conect)\n",
        "dados_recuperados.to_csv('dados.csv',index=False)"
      ],
      "execution_count": null,
      "outputs": []
    },
    {
      "cell_type": "code",
      "metadata": {
        "id": "PtK0G36FAxr1"
      },
      "source": [
        "# IMPORTA O CSV \n",
        "x = '/content/dados.csv'\n",
        "\n",
        "dff = pd.read_csv(x, encoding= 'unicode_escape', error_bad_lines=False,sep=',')"
      ],
      "execution_count": null,
      "outputs": []
    },
    {
      "cell_type": "code",
      "metadata": {
        "colab": {
          "base_uri": "https://localhost:8080/",
          "height": 414
        },
        "id": "3vgN-PCYBLV-",
        "outputId": "be9a32da-db9b-4003-9056-8b62c03bf324"
      },
      "source": [
        "dff['atualizacao'] = pd.to_datetime(dff['atualizacao']) # TRANSFORMA EM DATA\n",
        "dff"
      ],
      "execution_count": null,
      "outputs": [
        {
          "output_type": "execute_result",
          "data": {
            "text/html": [
              "<div>\n",
              "<style scoped>\n",
              "    .dataframe tbody tr th:only-of-type {\n",
              "        vertical-align: middle;\n",
              "    }\n",
              "\n",
              "    .dataframe tbody tr th {\n",
              "        vertical-align: top;\n",
              "    }\n",
              "\n",
              "    .dataframe thead th {\n",
              "        text-align: right;\n",
              "    }\n",
              "</style>\n",
              "<table border=\"1\" class=\"dataframe\">\n",
              "  <thead>\n",
              "    <tr style=\"text-align: right;\">\n",
              "      <th></th>\n",
              "      <th>id</th>\n",
              "      <th>codigo</th>\n",
              "      <th>atualizacao</th>\n",
              "      <th>temperatura</th>\n",
              "      <th>ar_umido</th>\n",
              "      <th>a_tempo</th>\n",
              "    </tr>\n",
              "  </thead>\n",
              "  <tbody>\n",
              "    <tr>\n",
              "      <th>0</th>\n",
              "      <td>1</td>\n",
              "      <td>Belo Horizonte</td>\n",
              "      <td>2021-09-30 17:00:00</td>\n",
              "      <td>30</td>\n",
              "      <td>46</td>\n",
              "      <td>PredomÃÂ­nio de Sol</td>\n",
              "    </tr>\n",
              "    <tr>\n",
              "      <th>1</th>\n",
              "      <td>2</td>\n",
              "      <td>Rio de Janeiro</td>\n",
              "      <td>2021-09-30 17:00:00</td>\n",
              "      <td>23</td>\n",
              "      <td>78</td>\n",
              "      <td>PredomÃÂ­nio de Sol</td>\n",
              "    </tr>\n",
              "    <tr>\n",
              "      <th>2</th>\n",
              "      <td>3</td>\n",
              "      <td>SÃ£o Paulo</td>\n",
              "      <td>2021-09-30 17:00:00</td>\n",
              "      <td>18</td>\n",
              "      <td>83</td>\n",
              "      <td>PredomÃÂ­nio de Sol</td>\n",
              "    </tr>\n",
              "    <tr>\n",
              "      <th>3</th>\n",
              "      <td>4</td>\n",
              "      <td>VitÃ³ria</td>\n",
              "      <td>2021-09-30 17:00:00</td>\n",
              "      <td>24</td>\n",
              "      <td>74</td>\n",
              "      <td>PredomÃÂ­nio de Sol</td>\n",
              "    </tr>\n",
              "    <tr>\n",
              "      <th>4</th>\n",
              "      <td>5</td>\n",
              "      <td>Belo Horizonte</td>\n",
              "      <td>2021-09-30 17:00:00</td>\n",
              "      <td>30</td>\n",
              "      <td>46</td>\n",
              "      <td>PredomÃÂ­nio de Sol</td>\n",
              "    </tr>\n",
              "    <tr>\n",
              "      <th>...</th>\n",
              "      <td>...</td>\n",
              "      <td>...</td>\n",
              "      <td>...</td>\n",
              "      <td>...</td>\n",
              "      <td>...</td>\n",
              "      <td>...</td>\n",
              "    </tr>\n",
              "    <tr>\n",
              "      <th>83</th>\n",
              "      <td>84</td>\n",
              "      <td>VitÃ³ria</td>\n",
              "      <td>2021-09-30 19:00:00</td>\n",
              "      <td>24</td>\n",
              "      <td>74</td>\n",
              "      <td>PredomÃÂ­nio de Sol</td>\n",
              "    </tr>\n",
              "    <tr>\n",
              "      <th>84</th>\n",
              "      <td>85</td>\n",
              "      <td>Belo Horizonte</td>\n",
              "      <td>2021-09-30 20:00:00</td>\n",
              "      <td>27</td>\n",
              "      <td>54</td>\n",
              "      <td>PredomÃÂ­nio de Sol</td>\n",
              "    </tr>\n",
              "    <tr>\n",
              "      <th>85</th>\n",
              "      <td>86</td>\n",
              "      <td>Rio de Janeiro</td>\n",
              "      <td>2021-09-30 20:00:00</td>\n",
              "      <td>22</td>\n",
              "      <td>88</td>\n",
              "      <td>PredomÃÂ­nio de Sol</td>\n",
              "    </tr>\n",
              "    <tr>\n",
              "      <th>86</th>\n",
              "      <td>87</td>\n",
              "      <td>SÃ£o Paulo</td>\n",
              "      <td>2021-09-30 20:00:00</td>\n",
              "      <td>17</td>\n",
              "      <td>88</td>\n",
              "      <td>PredomÃÂ­nio de Sol</td>\n",
              "    </tr>\n",
              "    <tr>\n",
              "      <th>87</th>\n",
              "      <td>88</td>\n",
              "      <td>VitÃ³ria</td>\n",
              "      <td>2021-09-30 20:00:00</td>\n",
              "      <td>23</td>\n",
              "      <td>78</td>\n",
              "      <td>PredomÃÂ­nio de Sol</td>\n",
              "    </tr>\n",
              "  </tbody>\n",
              "</table>\n",
              "<p>88 rows × 6 columns</p>\n",
              "</div>"
            ],
            "text/plain": [
              "    id          codigo  ... ar_umido               a_tempo\n",
              "0    1  Belo Horizonte  ...       46  PredomÃÂ­nio de Sol\n",
              "1    2  Rio de Janeiro  ...       78  PredomÃÂ­nio de Sol\n",
              "2    3      SÃ£o Paulo  ...       83  PredomÃÂ­nio de Sol\n",
              "3    4        VitÃ³ria  ...       74  PredomÃÂ­nio de Sol\n",
              "4    5  Belo Horizonte  ...       46  PredomÃÂ­nio de Sol\n",
              "..  ..             ...  ...      ...                   ...\n",
              "83  84        VitÃ³ria  ...       74  PredomÃÂ­nio de Sol\n",
              "84  85  Belo Horizonte  ...       54  PredomÃÂ­nio de Sol\n",
              "85  86  Rio de Janeiro  ...       88  PredomÃÂ­nio de Sol\n",
              "86  87      SÃ£o Paulo  ...       88  PredomÃÂ­nio de Sol\n",
              "87  88        VitÃ³ria  ...       78  PredomÃÂ­nio de Sol\n",
              "\n",
              "[88 rows x 6 columns]"
            ]
          },
          "metadata": {},
          "execution_count": 317
        }
      ]
    },
    {
      "cell_type": "code",
      "metadata": {
        "colab": {
          "base_uri": "https://localhost:8080/",
          "height": 167
        },
        "id": "bJL4CLCKDV0W",
        "outputId": "a4d54552-165d-48ee-9bcf-8db4ffa4415d"
      },
      "source": [
        ""
      ],
      "execution_count": null,
      "outputs": [
        {
          "output_type": "error",
          "ename": "NameError",
          "evalue": "ignored",
          "traceback": [
            "\u001b[0;31m---------------------------------------------------------------------------\u001b[0m",
            "\u001b[0;31mNameError\u001b[0m                                 Traceback (most recent call last)",
            "\u001b[0;32m<ipython-input-320-41f61370a7c9>\u001b[0m in \u001b[0;36m<module>\u001b[0;34m()\u001b[0m\n\u001b[0;32m----> 1\u001b[0;31m \u001b[0mdb\u001b[0m\u001b[0;34m.\u001b[0m\u001b[0mmetadata\u001b[0m\u001b[0;34m.\u001b[0m\u001b[0mtables\u001b[0m\u001b[0;34m[\u001b[0m\u001b[0;34m'basededados.db'\u001b[0m\u001b[0;34m]\u001b[0m\u001b[0;34m\u001b[0m\u001b[0;34m\u001b[0m\u001b[0m\n\u001b[0m",
            "\u001b[0;31mNameError\u001b[0m: name 'db' is not defined"
          ]
        }
      ]
    },
    {
      "cell_type": "markdown",
      "metadata": {
        "id": "q3yjWVd4Egko"
      },
      "source": [
        ""
      ]
    },
    {
      "cell_type": "code",
      "metadata": {
        "id": "fdo5LrxKNfhJ",
        "colab": {
          "base_uri": "https://localhost:8080/",
          "height": 35
        },
        "outputId": "6dd08024-238c-47d4-bdf3-78061f41b71a"
      },
      "source": [
        "\"\"\" ANOTAÇÕES DE ESTUDO\"\"\"\n",
        "\n",
        "\n",
        "# TESTE DE VERIFICAÇÃO UM\n",
        "# teste ={}\n",
        "# for i  in range(0, 26):\n",
        "#   if root[i][0].text in códigos:\n",
        "#     teste[root[i][0].text] = root[i][3].text\n",
        "#     print(f' Na estação {root[i][0].text} está fazendo {root[i][3].text} graus')  \n",
        "\n",
        "\n",
        "# print(root[0][0].text) \n",
        "\n",
        "#VISUALIZA_RAIZ\n",
        "#print(root.attrib)\n",
        "\n",
        "# #ESTUDO_VISUALIZAR_METAR ___TESTE DE INTEGRAÇÃO\n",
        "# for child in root:\n",
        "#   for codigo in child:\n",
        "#     #for valor in codigo:\n",
        "#       print(codigo.text)\n",
        "#     #print(codigo.tag, codigo.attrib)\n",
        "#     # print(child.tag, child.attrib)\n",
        "\n",
        "\n",
        "# # VERIFICAÇÃO LÓGICA --- TESTE DE VERIFICAÇÃO\n",
        "# for child in root.findall(\"metar\"):\n",
        "#     for title in child.findall(\"codigo\"):\n",
        "#       if title.text in códigos:        \n",
        "#         print(title.text)\n",
        "\n",
        "\n",
        "# print(root[0][0].text)  acessa o primeiro item do xml"
      ],
      "execution_count": null,
      "outputs": [
        {
          "output_type": "execute_result",
          "data": {
            "application/vnd.google.colaboratory.intrinsic+json": {
              "type": "string"
            },
            "text/plain": [
              "' ANOTAÇÕES DE ESTUDO'"
            ]
          },
          "metadata": {},
          "execution_count": 319
        }
      ]
    }
  ]
}