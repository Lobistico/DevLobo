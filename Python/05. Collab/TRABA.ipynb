{
  "nbformat": 4,
  "nbformat_minor": 0,
  "metadata": {
    "colab": {
      "name": "TRABA.ipynb",
      "provenance": [],
      "collapsed_sections": []
    },
    "kernelspec": {
      "display_name": "Python 3",
      "name": "python3"
    },
    "language_info": {
      "name": "python"
    }
  },
  "cells": [
    {
      "cell_type": "code",
      "metadata": {
        "id": "Gw5iFUg7S_Jy",
        "colab": {
          "base_uri": "https://localhost:8080/"
        },
        "outputId": "52fe9d0e-d9f4-4e7d-aa3a-4e52a7e9e23f"
      },
      "source": [
        "!pip install xmltodict\n",
        "import xmltodict\n",
        "from urllib.request import urlopen\n",
        "import pandas as pd\n",
        "\n",
        "\n",
        "file = urlopen('http://servicos.cptec.inpe.br/XML/capitais/condicoesAtuais.xml')\n",
        "data = file.read()\n",
        "file.close()\n",
        "data = xmltodict.parse(data)\n",
        "tabela = pd.DataFrame(data['capitais']['metar'])"
      ],
      "execution_count": null,
      "outputs": [
        {
          "output_type": "stream",
          "name": "stdout",
          "text": [
            "Requirement already satisfied: xmltodict in /usr/local/lib/python3.7/dist-packages (0.12.0)\n"
          ]
        }
      ]
    },
    {
      "cell_type": "code",
      "metadata": {
        "id": "lDwi-XPfTCZw"
      },
      "source": [
        "# TABELA GERAL\n",
        "print(tabela)"
      ],
      "execution_count": null,
      "outputs": []
    },
    {
      "cell_type": "code",
      "metadata": {
        "id": "_92jlKePu9qr",
        "colab": {
          "base_uri": "https://localhost:8080/",
          "height": 156
        },
        "outputId": "1e09a74b-a373-4d67-ef35-b5338af1a367"
      },
      "source": [
        "#IRIRI\n",
        "tabela.loc[(tabela.codigo == 'SBRJ'),['codigo'] ] = 'Rio de Janeiro'\n",
        "tabela.loc[(tabela.codigo == 'SBSP'),['codigo'] ] = 'São Paulo'\n",
        "tabela.loc[(tabela.codigo == 'SBVT'),['codigo'] ] = 'Vitoria - ES'\n",
        "tabela.loc[(tabela.codigo == 'SBCF'),['codigo'] ] = 'Belo Horizonte - MG'\n",
        "tabela.loc[(tabela.tempo_desc == 'PredomÃ­nio de Sol'),['tempo_desc']] = 'Predomínio de Sol'\n",
        "tabela.loc[[2,20,23,25],[\"codigo\", \"temperatura\"]]"
      ],
      "execution_count": null,
      "outputs": [
        {
          "output_type": "execute_result",
          "data": {
            "text/html": [
              "<div>\n",
              "<style scoped>\n",
              "    .dataframe tbody tr th:only-of-type {\n",
              "        vertical-align: middle;\n",
              "    }\n",
              "\n",
              "    .dataframe tbody tr th {\n",
              "        vertical-align: top;\n",
              "    }\n",
              "\n",
              "    .dataframe thead th {\n",
              "        text-align: right;\n",
              "    }\n",
              "</style>\n",
              "<table border=\"1\" class=\"dataframe\">\n",
              "  <thead>\n",
              "    <tr style=\"text-align: right;\">\n",
              "      <th></th>\n",
              "    </tr>\n",
              "  </thead>\n",
              "  <tbody>\n",
              "    <tr>\n",
              "      <th>2</th>\n",
              "    </tr>\n",
              "    <tr>\n",
              "      <th>20</th>\n",
              "    </tr>\n",
              "    <tr>\n",
              "      <th>23</th>\n",
              "    </tr>\n",
              "    <tr>\n",
              "      <th>25</th>\n",
              "    </tr>\n",
              "  </tbody>\n",
              "</table>\n",
              "</div>"
            ],
            "text/plain": [
              "Empty DataFrame\n",
              "Columns: []\n",
              "Index: [2, 20, 23, 25]"
            ]
          },
          "metadata": {},
          "execution_count": 12
        }
      ]
    }
  ]
}